{
 "cells": [
  {
   "cell_type": "markdown",
   "id": "9ef3f3ea",
   "metadata": {},
   "source": [
    "# Read file"
   ]
  },
  {
   "cell_type": "code",
   "execution_count": 66,
   "id": "a74e306f",
   "metadata": {},
   "outputs": [],
   "source": [
    "import pandas as pd\n",
    "import numpy as np\n",
    "import statsmodels.api as sm\n",
    "from numpy import pi, exp, sqrt\n",
    "from statsmodels.nonparametric.kernel_regression import KernelReg\n",
    "from statsmodels.regression.rolling import RollingWLS\n",
    "import talib as ta\n",
    "import plotly.graph_objects as go"
   ]
  },
  {
   "cell_type": "code",
   "execution_count": 4,
   "id": "6a453468",
   "metadata": {},
   "outputs": [],
   "source": [
    "# !pip install pyarrow"
   ]
  },
  {
   "cell_type": "code",
   "execution_count": 261,
   "id": "18cffc33",
   "metadata": {},
   "outputs": [],
   "source": [
    "df = pd.read_feather(\n",
    "    \"/Users/nicholasle/Desktop/algoTrading/pytrading/frameworks/freqtrade/user_data/data/binance/DOT_USDT-15m.feather\"\n",
    ")"
   ]
  },
  {
   "cell_type": "code",
   "execution_count": 262,
   "id": "436a049d",
   "metadata": {},
   "outputs": [
    {
     "data": {
      "text/html": [
       "<div>\n",
       "<style scoped>\n",
       "    .dataframe tbody tr th:only-of-type {\n",
       "        vertical-align: middle;\n",
       "    }\n",
       "\n",
       "    .dataframe tbody tr th {\n",
       "        vertical-align: top;\n",
       "    }\n",
       "\n",
       "    .dataframe thead th {\n",
       "        text-align: right;\n",
       "    }\n",
       "</style>\n",
       "<table border=\"1\" class=\"dataframe\">\n",
       "  <thead>\n",
       "    <tr style=\"text-align: right;\">\n",
       "      <th></th>\n",
       "      <th>date</th>\n",
       "      <th>open</th>\n",
       "      <th>high</th>\n",
       "      <th>low</th>\n",
       "      <th>close</th>\n",
       "      <th>volume</th>\n",
       "    </tr>\n",
       "  </thead>\n",
       "  <tbody>\n",
       "    <tr>\n",
       "      <th>0</th>\n",
       "      <td>2021-01-01 00:00:00+00:00</td>\n",
       "      <td>9.2620</td>\n",
       "      <td>9.3703</td>\n",
       "      <td>9.1697</td>\n",
       "      <td>9.2428</td>\n",
       "      <td>957296.63</td>\n",
       "    </tr>\n",
       "    <tr>\n",
       "      <th>1</th>\n",
       "      <td>2021-01-01 00:15:00+00:00</td>\n",
       "      <td>9.2428</td>\n",
       "      <td>9.2800</td>\n",
       "      <td>9.1410</td>\n",
       "      <td>9.1670</td>\n",
       "      <td>607590.30</td>\n",
       "    </tr>\n",
       "    <tr>\n",
       "      <th>2</th>\n",
       "      <td>2021-01-01 00:30:00+00:00</td>\n",
       "      <td>9.1623</td>\n",
       "      <td>9.1987</td>\n",
       "      <td>9.0373</td>\n",
       "      <td>9.1987</td>\n",
       "      <td>574184.68</td>\n",
       "    </tr>\n",
       "    <tr>\n",
       "      <th>3</th>\n",
       "      <td>2021-01-01 00:45:00+00:00</td>\n",
       "      <td>9.1987</td>\n",
       "      <td>9.4031</td>\n",
       "      <td>9.1870</td>\n",
       "      <td>9.2609</td>\n",
       "      <td>733787.79</td>\n",
       "    </tr>\n",
       "    <tr>\n",
       "      <th>4</th>\n",
       "      <td>2021-01-01 01:00:00+00:00</td>\n",
       "      <td>9.2628</td>\n",
       "      <td>9.4280</td>\n",
       "      <td>9.2600</td>\n",
       "      <td>9.3129</td>\n",
       "      <td>681561.69</td>\n",
       "    </tr>\n",
       "  </tbody>\n",
       "</table>\n",
       "</div>"
      ],
      "text/plain": [
       "                       date    open    high     low   close     volume\n",
       "0 2021-01-01 00:00:00+00:00  9.2620  9.3703  9.1697  9.2428  957296.63\n",
       "1 2021-01-01 00:15:00+00:00  9.2428  9.2800  9.1410  9.1670  607590.30\n",
       "2 2021-01-01 00:30:00+00:00  9.1623  9.1987  9.0373  9.1987  574184.68\n",
       "3 2021-01-01 00:45:00+00:00  9.1987  9.4031  9.1870  9.2609  733787.79\n",
       "4 2021-01-01 01:00:00+00:00  9.2628  9.4280  9.2600  9.3129  681561.69"
      ]
     },
     "execution_count": 262,
     "metadata": {},
     "output_type": "execute_result"
    }
   ],
   "source": [
    "df.head()"
   ]
  },
  {
   "cell_type": "code",
   "execution_count": 263,
   "id": "46664182",
   "metadata": {},
   "outputs": [
    {
     "data": {
      "text/plain": [
       "(103817, 6)"
      ]
     },
     "execution_count": 263,
     "metadata": {},
     "output_type": "execute_result"
    }
   ],
   "source": [
    "df.shape"
   ]
  },
  {
   "cell_type": "code",
   "execution_count": 206,
   "id": "5c9e66b4",
   "metadata": {},
   "outputs": [],
   "source": [
    "def detect_signal(series):\n",
    "    diff = series - series.shift(1)\n",
    "    conditions_min, conditions_max = [], []\n",
    "    for i in range(1, len(series)):\n",
    "        if (np.sign(diff.iloc[i]) == 1.0 and np.sign(diff.iloc[i-1]) == -1.0):\n",
    "            conditions_min.append(True)\n",
    "        elif not (np.sign(diff.iloc[i]) == 1.0 and np.sign(diff.iloc[i-1]) == -1.0):\n",
    "            conditions_min.append(False)\n",
    "        if np.sign(diff.iloc[i]) == -1.0 and np.sign(diff.iloc[i-1]) == 1.0:\n",
    "            conditions_max.append(True)\n",
    "        elif not (np.sign(diff.iloc[i]) == -1.0 and np.sign(diff.iloc[i-1]) == 1.0):\n",
    "            conditions_max.append(False)\n",
    "    if (conditions_min[-3] and not conditions_min[-2] and not conditions_min[-1]):\n",
    "        return 1\n",
    "    elif (conditions_max[-3] and not conditions_max[-2] and not conditions_max[-1]):\n",
    "        return -1\n",
    "    else:\n",
    "        return 0\n",
    "# def detect_max(series):\n",
    "#     diff = series - series.shift(1)\n",
    "#     conditions = []\n",
    "#     for i in range(1, len(series)):\n",
    "#         if np.sign(diff.iloc[i]) == -1.0 and np.sign(diff.iloc[i-1]) == 1.0:\n",
    "#             conditions.append(True)\n",
    "#     return 1 if (conditions[-3] and not conditions[-2] and not conditions[-1]) else 0"
   ]
  },
  {
   "cell_type": "code",
   "execution_count": 253,
   "id": "1b3cbd4a",
   "metadata": {},
   "outputs": [],
   "source": [
    "def calculate_signal(series, bandwidth=np.array([5])):\n",
    "    \"\"\"\n",
    "    Calculate the signal for each window.\n",
    "    \n",
    "    \"\"\"\n",
    "    #  Use Kernel Regression to create a fitted curve\n",
    "    kernel_regression = KernelReg([series.values], [series.index.to_numpy()], var_type='c', bw=bandwidth)\n",
    "    regression_result = kernel_regression.fit([series.index])\n",
    "    \n",
    "    # Get smoothed close prices\n",
    "    smoothed_prices_df = pd.Series(data=regression_result[0], index=series.index)\n",
    "    \n",
    "    signal = detect_signal(smoothed_prices_df)\n",
    "    \n",
    "    return signal"
   ]
  },
  {
   "cell_type": "code",
   "execution_count": 179,
   "id": "76987643",
   "metadata": {},
   "outputs": [],
   "source": [
    "def backtest(df, capital=1000.0, fee=0.001):\n",
    "    print(\"Starting backtest...\")\n",
    "    print(f\"Starting balance: ${capital:.2f}\")\n",
    "    stake = 0.5 * capital\n",
    "    in_market: bool = False\n",
    "    quantity: float = 0.0\n",
    "    for i in range(1, len(df)):\n",
    "        if not in_market and df.iloc[i]['enter_long'] == 1:\n",
    "            quantity += (stake / df.iloc[i-1]['close'])\n",
    "            capital -= (stake + fee * stake)\n",
    "            in_market = True\n",
    "        if in_market and df.iloc[i]['exit_long'] == 1:\n",
    "            capital += ((quantity * df.iloc[i-1]['close']) - fee * (quantity * df.iloc[i-1]['close'])) \n",
    "            quantity = 0.0\n",
    "            stake = 0.5 * capital\n",
    "            in_market = False\n",
    "    \n",
    "    # Report final value:\n",
    "    print(f\"Closing balance: ${capital:.2f}\")\n",
    "        "
   ]
  },
  {
   "cell_type": "code",
   "execution_count": 198,
   "id": "e3b725c8",
   "metadata": {},
   "outputs": [],
   "source": [
    "def create_plot(df):\n",
    "    fig = go.Figure()\n",
    "    #  Close\n",
    "    fig.add_trace(\n",
    "        go.Scatter(x=df.index, y=df['close'], line=dict(color=\"blue\", width=1), name=\"Close\")\n",
    "    )\n",
    "    #  Kernel Regression\n",
    "    fig.add_trace(\n",
    "        go.Scatter(x=df.index, y=df['visual_long'], mode='markers', marker_symbol='triangle-up', marker_color='green', name=\"Enter\")\n",
    "    )\n",
    "    fig.add_trace(\n",
    "        go.Scatter(x=df.index, y=df['visual_exit'], mode='markers', marker_symbol='triangle-down', marker_color='red', name=\"Exit\")\n",
    "    )\n",
    "    fig.show()"
   ]
  },
  {
   "cell_type": "code",
   "execution_count": null,
   "id": "92304a25",
   "metadata": {},
   "outputs": [],
   "source": [
    "def trade(df):\n",
    "    pass"
   ]
  },
  {
   "cell_type": "code",
   "execution_count": 271,
   "id": "25762d35",
   "metadata": {},
   "outputs": [],
   "source": [
    "df1 = df[:50000].copy()"
   ]
  },
  {
   "cell_type": "code",
   "execution_count": 272,
   "id": "10bb8b57",
   "metadata": {},
   "outputs": [],
   "source": [
    "df1['signal'] = df1['close'].rolling(window=10, closed='left').apply(calculate_signal)"
   ]
  },
  {
   "cell_type": "code",
   "execution_count": 273,
   "id": "34220343",
   "metadata": {},
   "outputs": [],
   "source": [
    "mask_enter = (df1['signal'] == 1.0)\n",
    "mask_exit = (df1['signal'] == -1.0)"
   ]
  },
  {
   "cell_type": "code",
   "execution_count": 274,
   "id": "e609dd76",
   "metadata": {},
   "outputs": [],
   "source": [
    "df1.loc[mask_enter, 'visual_long'] = df1.loc[mask_enter, 'close']\n",
    "df1.loc[mask_exit, 'visual_exit'] = df1.loc[mask_exit, 'close']"
   ]
  },
  {
   "cell_type": "code",
   "execution_count": 275,
   "id": "ad88a09b",
   "metadata": {},
   "outputs": [],
   "source": [
    "df1.loc[mask_enter, 'enter_long'] = 1\n",
    "df1.loc[mask_exit, 'exit_long'] = 1"
   ]
  },
  {
   "cell_type": "code",
   "execution_count": 276,
   "id": "225ef56e",
   "metadata": {
    "scrolled": true
   },
   "outputs": [
    {
     "name": "stdout",
     "output_type": "stream",
     "text": [
      "Starting backtest...\n",
      "Starting balance: $1000.00\n",
      "Closing balance: $826.63\n"
     ]
    }
   ],
   "source": [
    "backtest(df1)"
   ]
  },
  {
   "cell_type": "code",
   "execution_count": null,
   "id": "33872e08",
   "metadata": {},
   "outputs": [],
   "source": []
  }
 ],
 "metadata": {
  "kernelspec": {
   "display_name": "Python 3 (ipykernel)",
   "language": "python",
   "name": "python3"
  },
  "language_info": {
   "codemirror_mode": {
    "name": "ipython",
    "version": 3
   },
   "file_extension": ".py",
   "mimetype": "text/x-python",
   "name": "python",
   "nbconvert_exporter": "python",
   "pygments_lexer": "ipython3",
   "version": "3.8.2"
  }
 },
 "nbformat": 4,
 "nbformat_minor": 5
}
