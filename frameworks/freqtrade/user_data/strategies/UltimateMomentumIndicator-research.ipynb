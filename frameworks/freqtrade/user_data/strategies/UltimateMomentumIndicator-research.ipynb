{
 "cells": [
  {
   "cell_type": "code",
   "execution_count": 1,
   "id": "4b05b649",
   "metadata": {},
   "outputs": [],
   "source": [
    "import pandas as pd\n",
    "import technical.indicators as ftt\n",
    "from functools import reduce\n",
    "from datetime import datetime, timedelta\n",
    "import numpy as np\n",
    "import plotly.graph_objects as go\n",
    "import re\n",
    "import os\n",
    "import talib.abstract as ta"
   ]
  },
  {
   "cell_type": "code",
   "execution_count": 2,
   "id": "714a887a",
   "metadata": {},
   "outputs": [],
   "source": [
    "files = os.listdir(\"./data_research\")"
   ]
  },
  {
   "cell_type": "code",
   "execution_count": 3,
   "id": "39964b04",
   "metadata": {},
   "outputs": [],
   "source": [
    "ada_usdt_files = [file_name for file_name in os.listdir(\"./data_research\") if bool(re.match(\"ADAUSDT\", file_name))]"
   ]
  },
  {
   "cell_type": "code",
   "execution_count": 4,
   "id": "7c179d48",
   "metadata": {},
   "outputs": [],
   "source": [
    "ada_usdt = []\n",
    "for file in ada_usdt_files:\n",
    "    df = pd.read_csv(\n",
    "        f\"./data_research/{file}\",\n",
    "        names=[\n",
    "            'open_time',\n",
    "            'open',\n",
    "            'high',\n",
    "            'low',\n",
    "            'close',\n",
    "            'volume',\n",
    "            'close_time',\n",
    "            'quote_volume',\n",
    "            'count',\n",
    "            'taker_buy_volume',\n",
    "            'taker_buy_quote_volume',\n",
    "            'ignore'\n",
    "        ]\n",
    "    )\n",
    "    ada_usdt.append(df)\n",
    "    \n",
    "ada_usdt = pd.concat(ada_usdt, axis=0, ignore_index=True)"
   ]
  },
  {
   "cell_type": "code",
   "execution_count": 5,
   "id": "484bba3d",
   "metadata": {},
   "outputs": [],
   "source": [
    "ada_usdt.drop(['open_time', 'quote_volume', 'count', 'taker_buy_volume', 'taker_buy_quote_volume', 'ignore'], axis=1, inplace=True)"
   ]
  },
  {
   "cell_type": "code",
   "execution_count": 6,
   "id": "09a028be",
   "metadata": {},
   "outputs": [],
   "source": [
    "ada_usdt.rename(columns={'close_time': 'datetime'}, inplace=True)"
   ]
  },
  {
   "cell_type": "code",
   "execution_count": 7,
   "id": "0dc07d79",
   "metadata": {},
   "outputs": [],
   "source": [
    "ada_usdt.sort_values(by='datetime', inplace=True)"
   ]
  },
  {
   "cell_type": "code",
   "execution_count": 8,
   "id": "a390aafd",
   "metadata": {},
   "outputs": [],
   "source": [
    "ada_usdt.set_index('datetime', inplace=True)"
   ]
  },
  {
   "cell_type": "code",
   "execution_count": 9,
   "id": "15cfd5b9",
   "metadata": {},
   "outputs": [],
   "source": [
    "ada_usdt.index = pd.to_datetime(ada_usdt.index, unit='ms')"
   ]
  },
  {
   "cell_type": "code",
   "execution_count": 10,
   "id": "11456001",
   "metadata": {},
   "outputs": [
    {
     "data": {
      "text/html": [
       "<div>\n",
       "<style scoped>\n",
       "    .dataframe tbody tr th:only-of-type {\n",
       "        vertical-align: middle;\n",
       "    }\n",
       "\n",
       "    .dataframe tbody tr th {\n",
       "        vertical-align: top;\n",
       "    }\n",
       "\n",
       "    .dataframe thead th {\n",
       "        text-align: right;\n",
       "    }\n",
       "</style>\n",
       "<table border=\"1\" class=\"dataframe\">\n",
       "  <thead>\n",
       "    <tr style=\"text-align: right;\">\n",
       "      <th></th>\n",
       "      <th>open</th>\n",
       "      <th>high</th>\n",
       "      <th>low</th>\n",
       "      <th>close</th>\n",
       "      <th>volume</th>\n",
       "    </tr>\n",
       "    <tr>\n",
       "      <th>datetime</th>\n",
       "      <th></th>\n",
       "      <th></th>\n",
       "      <th></th>\n",
       "      <th></th>\n",
       "      <th></th>\n",
       "    </tr>\n",
       "  </thead>\n",
       "  <tbody>\n",
       "    <tr>\n",
       "      <th>2023-09-01 00:04:59.999</th>\n",
       "      <td>0.2554</td>\n",
       "      <td>0.2556</td>\n",
       "      <td>0.2550</td>\n",
       "      <td>0.2554</td>\n",
       "      <td>847128.5</td>\n",
       "    </tr>\n",
       "    <tr>\n",
       "      <th>2023-09-01 00:09:59.999</th>\n",
       "      <td>0.2555</td>\n",
       "      <td>0.2556</td>\n",
       "      <td>0.2553</td>\n",
       "      <td>0.2555</td>\n",
       "      <td>362375.9</td>\n",
       "    </tr>\n",
       "    <tr>\n",
       "      <th>2023-09-01 00:14:59.999</th>\n",
       "      <td>0.2555</td>\n",
       "      <td>0.2556</td>\n",
       "      <td>0.2555</td>\n",
       "      <td>0.2556</td>\n",
       "      <td>176382.6</td>\n",
       "    </tr>\n",
       "    <tr>\n",
       "      <th>2023-09-01 00:19:59.999</th>\n",
       "      <td>0.2556</td>\n",
       "      <td>0.2581</td>\n",
       "      <td>0.2556</td>\n",
       "      <td>0.2570</td>\n",
       "      <td>5336822.6</td>\n",
       "    </tr>\n",
       "    <tr>\n",
       "      <th>2023-09-01 00:24:59.999</th>\n",
       "      <td>0.2570</td>\n",
       "      <td>0.2572</td>\n",
       "      <td>0.2564</td>\n",
       "      <td>0.2565</td>\n",
       "      <td>333397.7</td>\n",
       "    </tr>\n",
       "  </tbody>\n",
       "</table>\n",
       "</div>"
      ],
      "text/plain": [
       "                           open    high     low   close     volume\n",
       "datetime                                                          \n",
       "2023-09-01 00:04:59.999  0.2554  0.2556  0.2550  0.2554   847128.5\n",
       "2023-09-01 00:09:59.999  0.2555  0.2556  0.2553  0.2555   362375.9\n",
       "2023-09-01 00:14:59.999  0.2555  0.2556  0.2555  0.2556   176382.6\n",
       "2023-09-01 00:19:59.999  0.2556  0.2581  0.2556  0.2570  5336822.6\n",
       "2023-09-01 00:24:59.999  0.2570  0.2572  0.2564  0.2565   333397.7"
      ]
     },
     "execution_count": 10,
     "metadata": {},
     "output_type": "execute_result"
    }
   ],
   "source": [
    "ada_usdt.head()"
   ]
  },
  {
   "cell_type": "markdown",
   "id": "bdf894c7",
   "metadata": {},
   "source": [
    "# Populate Indicators"
   ]
  },
  {
   "cell_type": "code",
   "execution_count": null,
   "id": "c616cdaa",
   "metadata": {},
   "outputs": [],
   "source": [
    "length1_buy = 13\n",
    "length2_buy = 19\n",
    "length3_buy = 21\n",
    "length4_buy = 39\n",
    "length5_buy = 50\n",
    "length6_buy = 200\n"
   ]
  },
  {
   "cell_type": "code",
   "execution_count": null,
   "id": "e755616e",
   "metadata": {},
   "outputs": [],
   "source": [
    "def populate_indicators(\n",
    "        dataframe: pd.DataFrame,\n",
    "        length1:int=13,\n",
    "        length2:int=19,\n",
    "        length3:int=21,\n",
    "        length4:int=39,\n",
    "        length5:int=50,\n",
    "        length6:int=200\n",
    ") -> pd.DataFrame:\n",
    "    # The source for calculation is the close price    \n",
    "    source = 'close'\n",
    "    \n",
    "    # Basis line is the length6 (SMA200) of close price\n",
    "    dataframe['basis'] = ta.SMA(dataframe[source], timeperiod = length6)\n",
    "    \n",
    "    # Dev is the length6 (200)-period rolling volatility (stdev) of the close price\n",
    "    dataframe['dev'] = dataframe[source].rolling(length6).std()\n",
    "    \n",
    "    # Upper and lower band is the SMA200 +- volatility\n",
    "    dataframe['upperBand'] = dataframe['basis'] + dataframe['dev']\n",
    "    dataframe['lowerBand'] = dataframe['basis'] - dataframe['dev']\n",
    "    \n",
    "    \n",
    "    dataframe['bPct'] = np.where(\n",
    "        (dataframe['upperBand'] - dataframe['lowerBand'] ) != 0, \n",
    "        (dataframe[source] - dataframe['lowerBand'])/(dataframe['upperBand'] - dataframe['lowerBand']),\n",
    "        0\n",
    "    )\n",
    "    \n",
    "    # advances sum detects where the first difference of close price is positive, then takes the sum of the \n",
    "    # length2-rolling window\n",
    "    dataframe['advSum'] = pd.Series(np.where(dataframe[source].diff() > 0, 1, 0)).rolling(length2).sum()\n",
    "    \n",
    "    # declines sum detects where the first difference of close price is non-positive, then takes the sum of the \n",
    "    # length2-rolling window\n",
    "    dataframe['decSum'] = pd.Series(np.where(dataframe[source].diff() > 0, 0, 1)).rolling(length2).sum()\n",
    "    \n",
    "    # ratio of advSum and decSum\n",
    "    dataframe['ratio'] = np.where(\n",
    "        dataframe['decSum'] != 0, \n",
    "        dataframe['advSum'] / dataframe['decSum'],\n",
    "        0\n",
    "    )\n",
    "    \n",
    "    # Ratio-Adjusted Net Advances (RANA): (advances - declines) / (advances + declines)\n",
    "    dataframe['rana'] = np.where(\n",
    "        (dataframe['advSum'] + dataframe['decSum']) != 0,\n",
    "        (dataframe['advSum'] - dataframe['decSum'])/(dataframe['advSum'] + dataframe['decSum']), \n",
    "        0\n",
    "    )\n",
    "    \n",
    "    # McClellan Oscillator: 19-day EMA of RANA - 39-day EMA of RANA\n",
    "    dataframe['mo'] = ta.EMA(dataframe['rana'], timeperiod = length2) - ta.EMA(dataframe['rana'], timeperiod = length4) \n",
    "    \n",
    "    \n",
    "    dataframe['utm'] = \\\n",
    "        (200 * dataframe['bPct']) + \\\n",
    "        (100 * dataframe['ratio']) + \\\n",
    "        (2 * dataframe['mo']) + \\\n",
    "        (1.5 * ta.MFI(dataframe, timeperiod = length5) ) + \\\n",
    "        (3 * ta.MFI(dataframe, timeperiod = length3) ) + \\\n",
    "        (3 * ta.MFI(dataframe, timeperiod = length1) ) \n",
    "    dataframe['utmiRsi']  = ta.RSI(dataframe['utm'], timeperiod = length1)\n",
    "    dataframe['utmi'] = ta.EMA(dataframe['utmiRsi'], timeperiod = length1)\n",
    "\n",
    "\n",
    "\n",
    "    return dataframe"
   ]
  }
 ],
 "metadata": {
  "kernelspec": {
   "display_name": "Python 3 (ipykernel)",
   "language": "python",
   "name": "python3"
  },
  "language_info": {
   "codemirror_mode": {
    "name": "ipython",
    "version": 3
   },
   "file_extension": ".py",
   "mimetype": "text/x-python",
   "name": "python",
   "nbconvert_exporter": "python",
   "pygments_lexer": "ipython3",
   "version": "3.8.2"
  }
 },
 "nbformat": 4,
 "nbformat_minor": 5
}
